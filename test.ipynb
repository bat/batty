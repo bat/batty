{
 "cells": [
  {
   "cell_type": "code",
   "execution_count": 1,
   "metadata": {},
   "outputs": [],
   "source": [
    "import matplotlib.pyplot as plt\n",
    "import numpy as np\n",
    "from scipy import stats"
   ]
  },
  {
   "cell_type": "code",
   "execution_count": 2,
   "metadata": {},
   "outputs": [],
   "source": [
    "from batty import BAT_sampler, BAT, Distributions"
   ]
  },
  {
   "cell_type": "code",
   "execution_count": 3,
   "metadata": {},
   "outputs": [],
   "source": [
    "prior = Distributions.MvNormal([0., 0.], np.array([[0.7, 0.3], [0.3, 0.7]]))"
   ]
  },
  {
   "cell_type": "code",
   "execution_count": 4,
   "metadata": {},
   "outputs": [],
   "source": [
    "def my_llh(x):\n",
    "    #return -0.5 * (x.a**2 + x.b**2/4)\n",
    "    return -0.5 * (x[0]**2 + x[1]**2/4)"
   ]
  },
  {
   "cell_type": "code",
   "execution_count": 16,
   "metadata": {},
   "outputs": [],
   "source": [
    "sampler_arp = BAT_sampler(my_llh, prior, mcalg=BAT.MetropolisHastings(weighting=BAT.ARPWeighting()), nchains=10)"
   ]
  },
  {
   "cell_type": "code",
   "execution_count": 18,
   "metadata": {},
   "outputs": [],
   "source": [
    "sampler = BAT_sampler(my_llh, prior, mcalg=BAT.MetropolisHastings(), nchains=10)"
   ]
  },
  {
   "cell_type": "code",
   "execution_count": 19,
   "metadata": {},
   "outputs": [
    {
     "name": "stderr",
     "output_type": "stream",
     "text": [
      "[ Info: Initializing new RNG of type Random123.Philox4x{UInt64, 10}\n",
      "[ Info: Using transform algorithm BAT.PriorSubstitution()\n",
      "[ Info: Trying to generate 10 viable MCMC chain(s).\n",
      "[ Info: Selected 10 MCMC chain(s).\n",
      "[ Info: Begin tuning of 10 MCMC chain(s).\n",
      "[ Info: MCMC Tuning cycle 1 finished, 10 chains, 10 tuned, 10 converged.\n",
      "[ Info: MCMC tuning of 10 chains successful after 1 cycle(s).\n",
      "[ Info: Running post-tuning stabilization steps for 10 MCMC chain(s).\n",
      "[ Info: Initializing new RNG of type Random123.Philox4x{UInt64, 10}\n",
      "[ Info: Using transform algorithm BAT.PriorSubstitution()\n",
      "[ Info: Trying to generate 10 viable MCMC chain(s).\n",
      "[ Info: Selected 10 MCMC chain(s).\n",
      "[ Info: Begin tuning of 10 MCMC chain(s).\n",
      "[ Info: MCMC Tuning cycle 1 finished, 10 chains, 10 tuned, 10 converged.\n",
      "[ Info: MCMC tuning of 10 chains successful after 1 cycle(s).\n",
      "[ Info: Running post-tuning stabilization steps for 10 MCMC chain(s).\n"
     ]
    },
    {
     "name": "stdout",
     "output_type": "stream",
     "text": [
      "CPU times: user 35.6 s, sys: 10.7 s, total: 46.3 s\n",
      "Wall time: 44.9 s\n"
     ]
    }
   ],
   "source": [
    "%%time\n",
    "sampler.run(1e5)\n",
    "sampler_arp.run(1e5)"
   ]
  },
  {
   "cell_type": "code",
   "execution_count": 20,
   "metadata": {},
   "outputs": [
    {
     "name": "stdout",
     "output_type": "stream",
     "text": [
      "CPU times: user 46.3 s, sys: 32.2 s, total: 1min 18s\n",
      "Wall time: 1min 18s\n"
     ]
    },
    {
     "data": {
      "text/plain": [
       "BAT_result(samples=array([[ 9.17698548e-01,  1.14631175e+00],\n",
       "       [ 6.19855404e-01,  1.44583816e+00],\n",
       "       [ 6.06864109e-01,  9.09875976e-01],\n",
       "       ...,\n",
       "       [-3.42163613e+00,  7.03341635e-03],\n",
       "       [-2.73185498e+00,  8.31289039e-01],\n",
       "       [ 1.64105250e+00, -1.64294273e+01]]), weight=array([1.23168446e+000, 7.68315540e-001, 2.72653828e+000, ...,\n",
       "       1.81502037e-007, 5.77547858e-006, 4.36989909e-128]), logd=array([  -3.06277047,   -3.32632524,   -2.29986825, ...,  -17.49577204,\n",
       "        -14.03566252, -295.22992507]))"
      ]
     },
     "execution_count": 20,
     "metadata": {},
     "output_type": "execute_result"
    }
   ],
   "source": [
    "%%time\n",
    "sampler.result\n",
    "sampler_arp.result"
   ]
  },
  {
   "cell_type": "code",
   "execution_count": 25,
   "metadata": {},
   "outputs": [
    {
     "data": {
      "image/png": "[encoded data removed]",
      "text/plain": [
       "<Figure size 864x432 with 2 Axes>"
      ]
     },
     "metadata": {
      "needs_background": "light"
     },
     "output_type": "display_data"
    }
   ],
   "source": [
    "fig, ax = plt.subplots(1, 2, figsize=(12,6))\n",
    "\n",
    "bins = np.linspace(-5,5,100)\n",
    "\n",
    "ax[0].hist(sampler.result.samples[:,0], weights=sampler.result.weight, bins=bins, density=True, alpha=0.5);\n",
    "ax[0].hist(sampler_arp.result.samples[:,0], weights=sampler_arp.result.weight, bins=bins, density=True, alpha=0.5);\n",
    "\n",
    "ax[1].hist(sampler.result.samples[:,1], weights=sampler.result.weight, bins=bins, density=True, alpha=0.5);\n",
    "ax[1].hist(sampler_arp.result.samples[:,1], weights=sampler_arp.result.weight, bins=bins, density=True, alpha=0.5);\n",
    "\n",
    "ax[0].set_yscale('log')\n",
    "ax[1].set_yscale('log')"
   ]
  },
  {
   "cell_type": "code",
   "execution_count": null,
   "metadata": {},
   "outputs": [],
   "source": []
  }
 ],
 "metadata": {
  "kernelspec": {
   "display_name": "Python 3 (ipykernel)",
   "language": "python",
   "name": "python3"
  },
  "language_info": {
   "codemirror_mode": {
    "name": "ipython",
    "version": 3
   },
   "file_extension": ".py",
   "mimetype": "text/x-python",
   "name": "python",
   "nbconvert_exporter": "python",
   "pygments_lexer": "ipython3",
   "version": "3.9.7"
  }
 },
 "nbformat": 4,
 "nbformat_minor": 4
}
