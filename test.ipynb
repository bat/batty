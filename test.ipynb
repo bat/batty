{
 "cells": [
  {
   "cell_type": "code",
   "execution_count": 1,
   "metadata": {},
   "outputs": [],
   "source": [
    "import matplotlib.pyplot as plt\n",
    "import numpy as np\n",
    "from scipy import stats"
   ]
  },
  {
   "cell_type": "code",
   "execution_count": 2,
   "metadata": {},
   "outputs": [
    {
     "name": "stderr",
     "output_type": "stream",
     "text": [
      "/home/iwsatlas1/peller/batty/batty.py:6: UserWarning: Not able to use compiled modules, resulting in (very) slow import\n",
      " See https://pyjulia.readthedocs.io/en/latest/troubleshooting.html\n",
      "  warnings.warn(\"Not able to use compiled modules, resulting in (very) slow import\\n See https://pyjulia.readthedocs.io/en/latest/troubleshooting.html\")\n"
     ]
    }
   ],
   "source": [
    "from batty import BAT_sampler, BAT, Distributions"
   ]
  },
  {
   "cell_type": "markdown",
   "metadata": {},
   "source": [
    "# Minimal Example"
   ]
  },
  {
   "cell_type": "code",
   "execution_count": 3,
   "metadata": {},
   "outputs": [],
   "source": [
    "sampler = BAT_sampler(llh=lambda x : -0.5 * x**2, prior_specs=Distributions.Uniform(-3, 3))"
   ]
  },
  {
   "cell_type": "code",
   "execution_count": 4,
   "metadata": {},
   "outputs": [
    {
     "name": "stderr",
     "output_type": "stream",
     "text": [
      "[ Info: Initializing new RNG of type Random123.Philox4x{UInt64, 10}\n",
      "[ Info: Using transform algorithm BAT.PriorSubstitution()\n",
      "[ Info: Trying to generate 4 viable MCMC chain(s).\n",
      "[ Info: Selected 4 MCMC chain(s).\n",
      "[ Info: Begin tuning of 4 MCMC chain(s).\n",
      "[ Info: MCMC Tuning cycle 1 finished, 4 chains, 4 tuned, 4 converged.\n",
      "[ Info: MCMC tuning of 4 chains successful after 1 cycle(s).\n",
      "[ Info: Running post-tuning stabilization steps for 4 MCMC chain(s).\n",
      "┌ Warning: `vendor()` is deprecated, use `BLAS.get_config()` and inspect the output instead\n",
      "│   caller = npyinitialize() at numpy.jl:67\n",
      "└ @ PyCall ~/.julia/packages/PyCall/L0fLP/src/numpy.jl:67\n"
     ]
    }
   ],
   "source": [
    "result = sampler.run()"
   ]
  },
  {
   "cell_type": "code",
   "execution_count": 5,
   "metadata": {},
   "outputs": [
    {
     "data": {
      "image/png": "[encoded data removed]",
      "text/plain": [
       "<Figure size 432x288 with 1 Axes>"
      ]
     },
     "metadata": {
      "needs_background": "light"
     },
     "output_type": "display_data"
    }
   ],
   "source": [
    "plt.hist(result.samples, weights=result.weight, density=True, alpha=0.5);"
   ]
  },
  {
   "cell_type": "markdown",
   "metadata": {},
   "source": [
    "# More Complicated Example"
   ]
  },
  {
   "cell_type": "code",
   "execution_count": 6,
   "metadata": {},
   "outputs": [],
   "source": [
    "s = np.random.rand(2,2)\n",
    "prior_specs = {'a' : Distributions.Uniform(-3,3), 'b' : Distributions.MvNormal([1,1], s@s.T), }"
   ]
  },
  {
   "cell_type": "code",
   "execution_count": 7,
   "metadata": {},
   "outputs": [],
   "source": [
    "def llh(x, d):\n",
    "    return -0.5 * ((x.b[0] - d[0])**2 + (x.b[1] - d[1])**2/4) - x.a"
   ]
  },
  {
   "cell_type": "code",
   "execution_count": 8,
   "metadata": {},
   "outputs": [],
   "source": [
    "d = [-1, 1]"
   ]
  },
  {
   "cell_type": "code",
   "execution_count": 9,
   "metadata": {},
   "outputs": [],
   "source": [
    "sampler = BAT_sampler(llh, prior_specs, llh_args=(d,), mcalg=BAT.MetropolisHastings(weighting=BAT.ARPWeighting()))"
   ]
  },
  {
   "cell_type": "code",
   "execution_count": 10,
   "metadata": {},
   "outputs": [
    {
     "name": "stderr",
     "output_type": "stream",
     "text": [
      "[ Info: Initializing new RNG of type Random123.Philox4x{UInt64, 10}\n",
      "[ Info: Using transform algorithm BAT.PriorSubstitution()\n",
      "[ Info: Trying to generate 10 viable MCMC chain(s).\n",
      "[ Info: Selected 10 MCMC chain(s).\n",
      "[ Info: Begin tuning of 10 MCMC chain(s).\n",
      "[ Info: MCMC Tuning cycle 1 finished, 10 chains, 10 tuned, 10 converged.\n",
      "[ Info: MCMC tuning of 10 chains successful after 1 cycle(s).\n",
      "[ Info: Running post-tuning stabilization steps for 10 MCMC chain(s).\n"
     ]
    },
    {
     "name": "stdout",
     "output_type": "stream",
     "text": [
      "CPU times: user 44.7 s, sys: 15.4 s, total: 1min\n",
      "Wall time: 59.4 s\n"
     ]
    },
    {
     "data": {
      "text/plain": [
       "BAT_result(samples=result_tuple(a=array([-1.74685621, -2.99868874,  2.01991504, ...,  2.99988944,\n",
       "       -3.        , -0.79900944]), b=array([[ 0.57921226,  2.42466248,  3.13049691, ..., -1.3942204 ,\n",
       "         1.93807921,  0.11599848],\n",
       "       [ 0.75014141,  1.11162687,  2.78297568, ..., -1.17161464,\n",
       "         6.18641244,  1.32819527]])), weight=array([5.99845607e+00, 1.71574736e-07, 3.90149725e-09, ...,\n",
       "       2.75622659e-09, 4.31496188e-74, 1.51944393e-01]), logd=array([  -1.60080755,  -11.32413023,  -20.8101039 , ...,  -16.91290603,\n",
       "       -139.39528552,   -7.54332665]))"
      ]
     },
     "execution_count": 10,
     "metadata": {},
     "output_type": "execute_result"
    }
   ],
   "source": [
    "%%time\n",
    "sampler.run(nsteps=1e5, nchains=10);"
   ]
  },
  {
   "cell_type": "code",
   "execution_count": 11,
   "metadata": {},
   "outputs": [
    {
     "data": {
      "image/png": "[encoded data removed]",
      "text/plain": [
       "<Figure size 864x432 with 3 Axes>"
      ]
     },
     "metadata": {
      "needs_background": "light"
     },
     "output_type": "display_data"
    }
   ],
   "source": [
    "fig, ax = plt.subplots(1, 3, figsize=(12,6))\n",
    "\n",
    "bins = np.linspace(-5,5,100)\n",
    "\n",
    "ax[0].hist(sampler.result.samples.a, weights=sampler.result.weight, bins=bins, density=True, alpha=0.5);\n",
    "ax[1].hist(sampler.result.samples.b[0], weights=sampler.result.weight, bins=bins, density=True, alpha=0.5);\n",
    "ax[2].hist(sampler.result.samples.b[1], weights=sampler.result.weight, bins=bins, density=True, alpha=0.5);\n",
    "\n",
    "ax[0].set_yscale('log')\n",
    "ax[1].set_yscale('log')\n",
    "ax[2].set_yscale('log')"
   ]
  },
  {
   "cell_type": "code",
   "execution_count": null,
   "metadata": {},
   "outputs": [],
   "source": []
  }
 ],
 "metadata": {
  "kernelspec": {
   "display_name": "Python 3 (ipykernel)",
   "language": "python",
   "name": "python3"
  },
  "language_info": {
   "codemirror_mode": {
    "name": "ipython",
    "version": 3
   },
   "file_extension": ".py",
   "mimetype": "text/x-python",
   "name": "python",
   "nbconvert_exporter": "python",
   "pygments_lexer": "ipython3",
   "version": "3.9.7"
  }
 },
 "nbformat": 4,
 "nbformat_minor": 4
}
